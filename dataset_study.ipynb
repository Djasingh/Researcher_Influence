{
 "cells": [
  {
   "cell_type": "code",
   "execution_count": 3,
   "id": "d8f833fd",
   "metadata": {},
   "outputs": [],
   "source": [
    "import numpy as np"
   ]
  },
  {
   "cell_type": "code",
   "execution_count": 4,
   "id": "8b6e78c6",
   "metadata": {},
   "outputs": [],
   "source": [
    "def load_numpy(filename):\n",
    "    data =  np.load(filename)\n",
    "    return data"
   ]
  },
  {
   "cell_type": "code",
   "execution_count": 5,
   "id": "cc0b72d4",
   "metadata": {},
   "outputs": [],
   "source": [
    "train_years= [\"1950_1980\", \"1950_1985\",\"1950_1990\",\"1950_1995\"]\n",
    "test_years = [\"1980_1985\",\"1985_1990\",\"1990_1995\",\"1995_2000\"]"
   ]
  },
  {
   "cell_type": "code",
   "execution_count": 7,
   "id": "83483a07",
   "metadata": {},
   "outputs": [
    {
     "name": "stdout",
     "output_type": "stream",
     "text": [
      "train shape: (19988, 53, 5, 400)\n",
      "train shape: (4501, 53, 5, 400)\n",
      "train shape: (24489, 53, 5, 400)\n",
      "train shape: (5024, 53, 5, 400)\n",
      "train shape: (29513, 53, 5, 400)\n",
      "train shape: (4333, 53, 5, 400)\n",
      "train shape: (33846, 53, 5, 400)\n",
      "train shape: (3029, 53, 5, 400)\n"
     ]
    }
   ],
   "source": [
    "for train_year, test_year in zip(train_years, test_years):\n",
    "    train_filename= f\"./dataset/train_input_m3_tsne_{train_year}.npy\"\n",
    "    test_filename= f\"./dataset/test_input_m3_tsne_{test_year}.npy\"\n",
    "    train_data = load_numpy(train_filename)\n",
    "    print(f\"train shape: {train_data.shape}\")\n",
    "    test_data  = load_numpy(test_filename)\n",
    "    print(f\"train shape: {test_data.shape}\")"
   ]
  },
  {
   "cell_type": "code",
   "execution_count": 9,
   "id": "5a47fa0c",
   "metadata": {},
   "outputs": [
    {
     "name": "stdout",
     "output_type": "stream",
     "text": [
      "train shape: (18229, 52, 5, 400)\n",
      "test shape: (3961, 52, 5, 400)\n",
      "train shape: (22190, 52, 5, 400)\n",
      "test shape: (4171, 52, 5, 400)\n",
      "train shape: (26361, 52, 5, 400)\n",
      "test shape: (3224, 52, 5, 400)\n",
      "train shape: (29585, 52, 5, 400)\n",
      "test shape: (1862, 52, 5, 400)\n"
     ]
    }
   ],
   "source": [
    "for train_year, test_year in zip(train_years, test_years):\n",
    "    train_filename= f\"./dataset/train_input_wo_null_thesis_{train_year}.npy\"\n",
    "    test_filename= f\"./dataset/test_input_wo_null_thesis_{test_year}.npy\"\n",
    "    train_data = load_numpy(train_filename)\n",
    "    print(f\"train shape: {train_data.shape}\")\n",
    "    test_data  = load_numpy(test_filename)\n",
    "    print(f\"test shape: {test_data.shape}\")"
   ]
  },
  {
   "cell_type": "code",
   "execution_count": 17,
   "id": "d3fd9c5d",
   "metadata": {},
   "outputs": [],
   "source": [
    "data = load_numpy(\"./dataset/train_output_m3_tsne_1950_1980.npy\")"
   ]
  },
  {
   "cell_type": "code",
   "execution_count": 18,
   "id": "8d4a360b",
   "metadata": {},
   "outputs": [
    {
     "data": {
      "text/plain": [
       "(19988, 6)"
      ]
     },
     "execution_count": 18,
     "metadata": {},
     "output_type": "execute_result"
    }
   ],
   "source": [
    "data.shape"
   ]
  },
  {
   "cell_type": "code",
   "execution_count": 19,
   "id": "0088dac7",
   "metadata": {},
   "outputs": [
    {
     "data": {
      "text/plain": [
       "array([19, 20, 21, 22, 22, 22])"
      ]
     },
     "execution_count": 19,
     "metadata": {},
     "output_type": "execute_result"
    }
   ],
   "source": [
    "data[0]"
   ]
  },
  {
   "cell_type": "code",
   "execution_count": 27,
   "id": "1a351a8b",
   "metadata": {},
   "outputs": [],
   "source": [
    "import pandas as pd\n",
    "from numpy import nan"
   ]
  },
  {
   "cell_type": "code",
   "execution_count": 39,
   "id": "86cb68b0",
   "metadata": {},
   "outputs": [
    {
     "name": "stdout",
     "output_type": "stream",
     "text": [
      "filtered dataset shape : (65276, 24)\n"
     ]
    }
   ],
   "source": [
    "dataset_loc = '../../dataset/basline_dataset2.csv'\n",
    "dataset = pd.read_csv(dataset_loc, sep=',', lineterminator=\"\\n\", low_memory=False)\n",
    "filtered_data = dataset[dataset['input_connected']==True].copy()\n",
    "print(f\"filtered dataset shape : {filtered_data.shape}\")"
   ]
  },
  {
   "cell_type": "code",
   "execution_count": 40,
   "id": "74a486f0",
   "metadata": {},
   "outputs": [
    {
     "data": {
      "text/plain": [
       "Index(['Id', 'Name', 'Year', 'University', 'Country', 'Title', 'MSC', 'BIO',\n",
       "       'MSN', 'combined_input', 'nodeid', 'input_connected', 'input_edgelist',\n",
       "       'input_node_years', 'input_length', 'combined_output', 'output_seq',\n",
       "       'output_uniq_seq', 'output_years', 'output_uniq_len', 'tree_edges',\n",
       "       'output_seq_15', 'node_seq_15', 'time_seq_15'],\n",
       "      dtype='object')"
      ]
     },
     "execution_count": 40,
     "metadata": {},
     "output_type": "execute_result"
    }
   ],
   "source": [
    "dataset.columns"
   ]
  },
  {
   "cell_type": "code",
   "execution_count": 41,
   "id": "7ff65467",
   "metadata": {},
   "outputs": [],
   "source": [
    "filtered_data['input_nodes_sequence'] = filtered_data['input_node_years'].apply(lambda x : [i[0] if i else None for i in eval(x)])\n",
    "filtered_data['input_years_sequence'] = filtered_data['input_node_years'].apply(lambda x : [i[1] if i else None for i in eval(x)])\n",
    "filtered_data['first_year']= filtered_data['input_years_sequence'].apply(lambda x:x[1]) #new after 05-05-2022\n",
    "filtered_data['flag'] = filtered_data['first_year']+15 <= 2021 #new\n",
    "filtered_data = filtered_data[filtered_data['flag']==True].copy() #new"
   ]
  },
  {
   "cell_type": "code",
   "execution_count": 42,
   "id": "7f7b40e0",
   "metadata": {},
   "outputs": [
    {
     "data": {
      "text/plain": [
       "(43164, 28)"
      ]
     },
     "execution_count": 42,
     "metadata": {},
     "output_type": "execute_result"
    }
   ],
   "source": [
    "filtered_data.shape"
   ]
  },
  {
   "cell_type": "code",
   "execution_count": 43,
   "id": "ac8b22e4",
   "metadata": {},
   "outputs": [],
   "source": [
    "filtered_data['output_seq_15'] = filtered_data['output_seq_15'].apply(lambda x : eval(x))"
   ]
  },
  {
   "cell_type": "code",
   "execution_count": 44,
   "id": "5f325429",
   "metadata": {},
   "outputs": [],
   "source": [
    "train_dataset = np.array([np.array(arr)+1 for arr in filtered_data['output_seq_15'].values])"
   ]
  },
  {
   "cell_type": "code",
   "execution_count": 45,
   "id": "12a578d1",
   "metadata": {},
   "outputs": [
    {
     "data": {
      "text/plain": [
       "array([2, 2, 2, 2, 3, 4, 4, 4, 4, 4, 4, 4, 4, 4, 4, 4])"
      ]
     },
     "execution_count": 45,
     "metadata": {},
     "output_type": "execute_result"
    }
   ],
   "source": [
    "train_dataset[0]"
   ]
  },
  {
   "cell_type": "code",
   "execution_count": 46,
   "id": "006f19e2",
   "metadata": {},
   "outputs": [
    {
     "data": {
      "text/plain": [
       "[1, 1, 1, 1, 2, 3, 3, 3, 3, 3, 3, 3, 3, 3, 3, 3]"
      ]
     },
     "execution_count": 46,
     "metadata": {},
     "output_type": "execute_result"
    }
   ],
   "source": [
    "filtered_data['output_seq_15'][0]"
   ]
  },
  {
   "cell_type": "code",
   "execution_count": null,
   "id": "2f2ab89a",
   "metadata": {},
   "outputs": [],
   "source": []
  }
 ],
 "metadata": {
  "kernelspec": {
   "display_name": "Python 3",
   "language": "python",
   "name": "python3"
  },
  "language_info": {
   "codemirror_mode": {
    "name": "ipython",
    "version": 3
   },
   "file_extension": ".py",
   "mimetype": "text/x-python",
   "name": "python",
   "nbconvert_exporter": "python",
   "pygments_lexer": "ipython3",
   "version": "3.6.9"
  }
 },
 "nbformat": 4,
 "nbformat_minor": 5
}
