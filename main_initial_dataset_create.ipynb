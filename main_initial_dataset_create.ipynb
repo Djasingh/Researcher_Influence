{
 "cells": [
  {
   "cell_type": "code",
   "execution_count": 1,
   "id": "8f0f9a31",
   "metadata": {},
   "outputs": [],
   "source": [
    "import networkx as nx\n",
    "import pandas as pd\n",
    "import numpy as np\n",
    "from tqdm import tqdm\n",
    "from matplotlib import pyplot as plt\n",
    "from sklearn.manifold import TSNE\n",
    "from main_util_func import *"
   ]
  },
  {
   "cell_type": "code",
   "execution_count": 2,
   "id": "32b4f007",
   "metadata": {},
   "outputs": [],
   "source": [
    "tqdm.pandas()"
   ]
  },
  {
   "cell_type": "code",
   "execution_count": 3,
   "id": "774aa4d3",
   "metadata": {},
   "outputs": [],
   "source": [
    "def init():\n",
    "    node_data_loc = '../new_data/mgpnodeList_with_year_completion.csv'\n",
    "    edge_data_loc = '../new_data/mgpedgeList_wodup.csv'\n",
    "    nodes = pd.read_csv(node_data_loc, sep=',', lineterminator=\"\\n\", low_memory=False)\n",
    "    nodes['Year'] = pd.to_datetime(nodes['Year'],format='%Y',errors='ignore')\n",
    "    nodes['Year'] = nodes['Year'].astype(float)\n",
    "    edges = pd.read_csv(edge_data_loc, sep=',', low_memory=False, lineterminator=\"\\n\",)\n",
    "    print(nodes.shape)\n",
    "    print(edges.shape)\n",
    "    edges['advisee_year'] = edges['advisee'].map(nodes.set_index('Id')['Year'])\n",
    "    edges['advisor_year'] = edges['advisor'].map(nodes.set_index('Id')['Year'])\n",
    "    nodes_att=dict(zip(nodes['Id'], nodes['Year']))\n",
    "    graph = nx.from_pandas_edgelist(edges, 'advisor', 'advisee', create_using=nx.DiGraph())\n",
    "    graph.add_nodes_from(nodes_att.keys())\n",
    "    nx.set_node_attributes(graph, values = nodes_att, name='year')\n",
    "    return nodes, edges, graph"
   ]
  },
  {
   "cell_type": "code",
   "execution_count": 4,
   "id": "4a85c281",
   "metadata": {},
   "outputs": [],
   "source": [
    "def add_additional_info(edges, nodes, graph):\n",
    "    nodes['combined_input'] = nodes.progress_apply(lambda x: find_family_graph(graph, x['Id']), axis=1)\n",
    "    nodes['nodeid'] =  nodes['combined_input'].apply(lambda x : x[0])\n",
    "    nodes['input_connected'] =  nodes['combined_input'].apply(lambda x : x[1])\n",
    "    nodes['input_edgelist'] =  nodes['combined_input'].apply(lambda x : x[2])\n",
    "    nodes['input_node_years'] =  nodes['combined_input'].apply(lambda x : x[3])\n",
    "    nodes['input_length'] = nodes['input_node_years'].apply(lambda x : len(x))\n",
    "    nodes['combined_output'] = nodes.progress_apply(lambda x: find_output_sequence(graph, x['Id']), axis=1)\n",
    "    nodes['output_seq'] = nodes['combined_output'].apply(lambda x : x[0])\n",
    "    nodes['output_uniq_seq'] = nodes['combined_output'].apply(lambda x : set(x[0]))\n",
    "    nodes['output_years'] = nodes['combined_output'].apply(lambda x : x[1])\n",
    "    nodes['output_uniq_len'] = nodes['output_uniq_seq'].apply(lambda x : len(x))\n",
    "    nodes['tree_edges'] = nodes[['input_edgelist','input_node_years']].apply(convert_directed_family_graph_to_tree_keep_old, axis=1)\n",
    "    nodes.to_csv('./data/mgpnodeList_with_year_completion_updated_old_kept.csv', index = False) #previous file in new_data folder\n",
    "    edges.to_csv('./data/mgpedgeList_wodup_updated_old_kept.csv', index = False)\n",
    "    return"
   ]
  },
  {
   "cell_type": "code",
   "execution_count": 5,
   "id": "ad6aba3b",
   "metadata": {},
   "outputs": [
    {
     "name": "stdout",
     "output_type": "stream",
     "text": [
      "(268653, 9)\n",
      "(292586, 2)\n"
     ]
    },
    {
     "name": "stderr",
     "output_type": "stream",
     "text": [
      "100%|██████████| 268653/268653 [05:57<00:00, 751.12it/s]  \n",
      "100%|██████████| 268653/268653 [17:38<00:00, 253.70it/s]  \n"
     ]
    }
   ],
   "source": [
    "if __name__ == \"__main__\":\n",
    "    nodes,edges, graph = init()\n",
    "    graph.remove_edges_from(nx.selfloop_edges(graph))\n",
    "    graph.remove_edges_from(nx.simple_cycles(graph))\n",
    "    add_additional_info(edges, nodes, graph)"
   ]
  },
  {
   "cell_type": "code",
   "execution_count": 6,
   "id": "66c447e3",
   "metadata": {},
   "outputs": [
    {
     "data": {
      "text/plain": [
       "(65276, 21)"
      ]
     },
     "execution_count": 6,
     "metadata": {},
     "output_type": "execute_result"
    }
   ],
   "source": [
    "nodes[nodes['input_connected']==True].shape"
   ]
  },
  {
   "cell_type": "code",
   "execution_count": null,
   "id": "8814b335",
   "metadata": {},
   "outputs": [],
   "source": []
  }
 ],
 "metadata": {
  "kernelspec": {
   "display_name": "Python 3",
   "language": "python",
   "name": "python3"
  },
  "language_info": {
   "codemirror_mode": {
    "name": "ipython",
    "version": 3
   },
   "file_extension": ".py",
   "mimetype": "text/x-python",
   "name": "python",
   "nbconvert_exporter": "python",
   "pygments_lexer": "ipython3",
   "version": "3.6.9"
  }
 },
 "nbformat": 4,
 "nbformat_minor": 5
}
