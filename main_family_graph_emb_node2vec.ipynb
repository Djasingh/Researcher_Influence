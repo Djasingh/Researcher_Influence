{
 "cells": [
  {
   "cell_type": "code",
   "execution_count": 1,
   "id": "615c281a",
   "metadata": {},
   "outputs": [],
   "source": [
    "import networkx as nx\n",
    "import pandas as pd\n",
    "import numpy as np\n",
    "#import import_ipynb\n",
    "import pickle\n",
    "from tqdm import tqdm\n",
    "from main_util_func import *\n",
    "from numpy import nan\n",
    "from node2vec import Node2Vec"
   ]
  },
  {
   "cell_type": "code",
   "execution_count": 8,
   "id": "e695c38f",
   "metadata": {},
   "outputs": [],
   "source": [
    "def create_intermediate_files():\n",
    "    node_data_loc = './data/mgpnodeList_with_year_completion_updated_old_kept.csv'\n",
    "    edge_data_loc = './data/mgpedgeList_wodup_updated_old_kept.csv'\n",
    "    nodes = pd.read_csv(node_data_loc, sep=',', lineterminator=\"\\n\", low_memory=False)\n",
    "    edges = pd.read_csv(edge_data_loc, sep=',', low_memory=False, lineterminator=\"\\n\",)\n",
    "    del edges\n",
    "    #final_embed = obtain_embedding(nodes)\n",
    "    #print(len(final_embed))\n",
    "    #save_obj(final_embed, 'mod_embedding_family_graph_node2vec')\n",
    "    nodes['input_nodes_sequence'] = nodes['input_node_years'].apply(lambda x : [i[0] if i else None for i in eval(x)])\n",
    "    nodes['input_years_sequence'] = nodes['input_node_years'].apply(lambda x : [i[1] if i else None for i in eval(x)])\n",
    "    model_data = nodes[nodes['input_connected'] == True][['Id','Year','nodeid','input_nodes_sequence','input_years_sequence','input_length','output_seq','output_years']].copy()\n",
    "    model_data1 = nodes[nodes['input_connected'] == True][['Id','Year','University', 'Country', 'Title', 'MSC','nodeid','input_edgelist','input_nodes_sequence','input_years_sequence','input_length','output_seq','output_years',\"tree_edges\"]].copy()\n",
    "    model_data2 = nodes[['Id','Year','University', 'Country', 'Title', 'MSC','nodeid','input_connected','input_edgelist','input_nodes_sequence','input_years_sequence','input_length','output_seq','output_years']].copy()\n",
    "    model_data['output_seq']   = model_data['output_seq'].apply(lambda x : [i+1 for i in eval(x)])\n",
    "    model_data1['output_seq']  = model_data1['output_seq'].apply(lambda x : [i+1 for i in eval(x)])\n",
    "    model_data2['output_seq']  = model_data2['output_seq'].apply(lambda x : [i+1 for i in eval(x)])\n",
    "    del nodes\n",
    "    model_data.to_csv('./inter_files/input-output-data_old_kept.csv', index = False)\n",
    "    model_data1.to_csv('./inter_files/input-output-data1_old_kept.csv', index = False)\n",
    "    model_data2.to_csv('./inter_files/complete_data-input-output_old_kept.csv', index = False)\n",
    "    return"
   ]
  },
  {
   "cell_type": "code",
   "execution_count": 9,
   "id": "f1afd1be",
   "metadata": {},
   "outputs": [],
   "source": [
    "if __name__==\"__main__\":\n",
    "    create_intermediate_files()\n",
    "    #execution time : 1.46 hr "
   ]
  },
  {
   "cell_type": "code",
   "execution_count": null,
   "id": "98ce0df5",
   "metadata": {},
   "outputs": [],
   "source": [
    "'''model_data2[['nodeid','input_connected','input_edgelist','input_nodes_sequence','input_years_sequence',\n",
    "'input_length','output_seq','output_years']].sample(5)'''"
   ]
  }
 ],
 "metadata": {
  "kernelspec": {
   "display_name": "Python 3",
   "language": "python",
   "name": "python3"
  },
  "language_info": {
   "codemirror_mode": {
    "name": "ipython",
    "version": 3
   },
   "file_extension": ".py",
   "mimetype": "text/x-python",
   "name": "python",
   "nbconvert_exporter": "python",
   "pygments_lexer": "ipython3",
   "version": "3.6.9"
  }
 },
 "nbformat": 4,
 "nbformat_minor": 5
}
