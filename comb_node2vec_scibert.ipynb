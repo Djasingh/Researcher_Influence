{
 "cells": [
  {
   "cell_type": "code",
   "execution_count": 1,
   "id": "0673a7be",
   "metadata": {},
   "outputs": [],
   "source": [
    "from main_util_func import *"
   ]
  },
  {
   "cell_type": "code",
   "execution_count": 5,
   "id": "88b991d4",
   "metadata": {},
   "outputs": [],
   "source": [
    "def concat_embeddings():\n",
    "    secibert_embeddings  = load_obj('combined_reduced_tsne_embed')\n",
    "    node2vec = load_obj('mod_embedding_family_graph_node2vec')\n",
    "    node2vec_scibert ={}\n",
    "    for key in node2vec:\n",
    "        node2vec_scibert[key]={}\n",
    "        for member in node2vec[key]:\n",
    "            node2vec_scibert[key][member]= np.concatenate((node2vec[key][member],secibert_embeddings[int(member)]))\n",
    "    return node2vec_scibert"
   ]
  },
  {
   "cell_type": "code",
   "execution_count": 6,
   "id": "aad7af29",
   "metadata": {},
   "outputs": [
    {
     "name": "stdout",
     "output_type": "stream",
     "text": [
      "saved\n"
     ]
    }
   ],
   "source": [
    "if __name__==\"__main__\":\n",
    "    node2vec_scibert = concat_embeddings()\n",
    "    save_obj(node2vec_scibert,\"node2vec_scibert_embed\")"
   ]
  },
  {
   "cell_type": "code",
   "execution_count": 4,
   "id": "bc047b73",
   "metadata": {},
   "outputs": [
    {
     "data": {
      "text/plain": [
       "65276"
      ]
     },
     "execution_count": 4,
     "metadata": {},
     "output_type": "execute_result"
    }
   ],
   "source": [
    "len(node2vec_scibert)"
   ]
  },
  {
   "cell_type": "code",
   "execution_count": null,
   "id": "9d370b0b",
   "metadata": {},
   "outputs": [],
   "source": []
  }
 ],
 "metadata": {
  "kernelspec": {
   "display_name": "Python 3",
   "language": "python",
   "name": "python3"
  },
  "language_info": {
   "codemirror_mode": {
    "name": "ipython",
    "version": 3
   },
   "file_extension": ".py",
   "mimetype": "text/x-python",
   "name": "python",
   "nbconvert_exporter": "python",
   "pygments_lexer": "ipython3",
   "version": "3.6.9"
  }
 },
 "nbformat": 4,
 "nbformat_minor": 5
}
