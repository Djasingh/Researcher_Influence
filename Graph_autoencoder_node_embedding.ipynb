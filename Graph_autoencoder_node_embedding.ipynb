{
 "cells": [
  {
   "cell_type": "code",
   "execution_count": 58,
   "id": "dce79992",
   "metadata": {},
   "outputs": [],
   "source": [
    "import networkx as nx\n",
    "import pandas as pd\n",
    "import numpy as np\n",
    "from tqdm import tqdm\n",
    "import pickle\n",
    "import torch\n",
    "from torch_geometric.datasets import Planetoid\n",
    "import torch_geometric.transforms as T\n",
    "from torch_geometric.nn import GCNConv\n",
    "from torch_geometric.utils import train_test_split_edges\n",
    "from torch_geometric import transforms\n",
    "from torch_geometric.nn import GAE\n",
    "from torch_geometric.utils.convert import from_networkx, to_networkx\n",
    "from matplotlib import pyplot as plt\n",
    "import time"
   ]
  },
  {
   "cell_type": "code",
   "execution_count": 2,
   "id": "91c1cd70",
   "metadata": {},
   "outputs": [],
   "source": [
    "#from main_util_func import *"
   ]
  },
  {
   "cell_type": "code",
   "execution_count": 3,
   "id": "4b58e215",
   "metadata": {},
   "outputs": [],
   "source": [
    "def data_load(embed, size):\n",
    "    embed_size = size\n",
    "    node_data_loc = '../new_data/mgpnodeList_with_year_completion.csv'\n",
    "    edge_data_loc = '../new_data/mgpedgeList_wodup.csv'\n",
    "    nodes = pd.read_csv(node_data_loc, sep=',', lineterminator=\"\\n\", low_memory=False)\n",
    "    nodes['Year'] = pd.to_datetime(nodes['Year'],format='%Y',errors='ignore')\n",
    "    nodes['Year'] = nodes['Year'].astype(float)\n",
    "    nodes[\"sci_embed\"] = nodes[\"Id\"].map(embed)\n",
    "    \n",
    "    nodes[\"sci_embed\"] = nodes[\"sci_embed\"].apply(lambda x: [np.float16(x_elm) for x_elm in x[0:embed_size]])\n",
    "    edges = pd.read_csv(edge_data_loc, sep=',', low_memory=False, lineterminator=\"\\n\",)\n",
    "    print(nodes.shape)\n",
    "    print(edges.shape)\n",
    "    edges['advisee_year'] = edges['advisee'].map(nodes.set_index('Id')['Year'])\n",
    "    edges['advisor_year'] = edges['advisor'].map(nodes.set_index('Id')['Year'])\n",
    "    nodes_att=dict(zip(nodes['Id'], nodes['sci_embed']))\n",
    "    graph = nx.from_pandas_edgelist(edges, 'advisor', 'advisee', create_using=nx.DiGraph())\n",
    "    graph.add_nodes_from(nodes_att.keys())\n",
    "    nx.set_node_attributes(graph, values = nodes_att, name='x')\n",
    "    for node in graph.nodes:\n",
    "        node_dict = graph.nodes[node]\n",
    "        if node_dict.get('x') is None:\n",
    "            node_dict['x']= [0]*embed_size\n",
    "    return nodes, edges, graph"
   ]
  },
  {
   "cell_type": "code",
   "execution_count": 11,
   "id": "e0a76efb",
   "metadata": {},
   "outputs": [],
   "source": [
    "def load_obj(name):\n",
    "    '''\n",
    "    name : Filename\n",
    "    '''\n",
    "    with open('obj/' + name + '.pkl', 'rb') as f:\n",
    "        data = pickle.load(f)\n",
    "    return data"
   ]
  },
  {
   "cell_type": "code",
   "execution_count": 5,
   "id": "9df7af1f",
   "metadata": {},
   "outputs": [],
   "source": [
    "#Data(x=[268701, 10], val_pos_edge_index=[2, 12971], test_pos_edge_index=[2, 25942], train_pos_edge_index=[2, 441028])"
   ]
  },
  {
   "cell_type": "code",
   "execution_count": 6,
   "id": "fedbf0ae",
   "metadata": {},
   "outputs": [],
   "source": [
    "class GCNEncoder(torch.nn.Module):\n",
    "    def __init__(self, in_channels, out_channels):\n",
    "        super(GCNEncoder, self).__init__()\n",
    "        self.conv1 = GCNConv(in_channels, 2 * out_channels, cached=True) # cached only for transductive learning\n",
    "        self.conv2 = GCNConv(2 * out_channels, out_channels, cached=True) # cached only for transductive learning\n",
    "\n",
    "    def forward(self, x, edge_index):\n",
    "        x = self.conv1(x, edge_index).relu()\n",
    "        return self.conv2(x, edge_index)"
   ]
  },
  {
   "cell_type": "code",
   "execution_count": 7,
   "id": "ccf188f4",
   "metadata": {},
   "outputs": [],
   "source": [
    "def train():\n",
    "    model.train()\n",
    "    optimizer.zero_grad()\n",
    "    z = model.encode(x,train_pos_edge_index)\n",
    "    loss = model.recon_loss(z, train_pos_edge_index)\n",
    "    #if args.variational:\n",
    "    #   loss = loss + (1 / data.num_nodes) * model.kl_loss()\n",
    "    loss.backward()\n",
    "    optimizer.step()\n",
    "    return float(loss)"
   ]
  },
  {
   "cell_type": "code",
   "execution_count": 8,
   "id": "f2fcc8fa",
   "metadata": {},
   "outputs": [],
   "source": [
    "def test(pos_edge_index, neg_edge_index):\n",
    "    model.eval()\n",
    "    with torch.no_grad():\n",
    "        z = model.encode(x, train_pos_edge_index)\n",
    "    return model.test(z, pos_edge_index, neg_edge_index)"
   ]
  },
  {
   "cell_type": "code",
   "execution_count": null,
   "id": "ab4cebda",
   "metadata": {},
   "outputs": [],
   "source": [
    "def save_obj(obj, name):\n",
    "    '''\n",
    "    obj : Dictionary\n",
    "    name : Filename to save\n",
    "    '''\n",
    "    with open('obj/'+ name + '.pkl', 'wb') as f:\n",
    "        pickle.dump(obj, f, protocol=4)#\n",
    "    print(\"saved\")"
   ]
  },
  {
   "cell_type": "code",
   "execution_count": 10,
   "id": "b461b797",
   "metadata": {},
   "outputs": [
    {
     "name": "stdout",
     "output_type": "stream",
     "text": [
      "(268653, 10)\n",
      "(292586, 2)\n"
     ]
    }
   ],
   "source": [
    "if __name__==\"__main__\":\n",
    "    # parameters\n",
    "    embed_size   = 400\n",
    "    out_channels = 100\n",
    "    num_features = embed_size\n",
    "    epochs       = 300\n",
    "\n",
    "    secibert_embeddings  = load_obj('combined_reduced_tsne_embed')\n",
    "    nodes, edges, graph  = data(secibert_embeddings, embed_size)\n",
    "    data = from_networkx(graph)\n",
    "    \n",
    "\n",
    "    # model\n",
    "    model = GAE(GCNEncoder(num_features, out_channels))\n",
    "\n",
    "    # move to GPU (if available)\n",
    "    device = torch.device('cuda' if torch.cuda.is_available() else 'cpu')\n",
    "    model = model.to(device, dtype=torch.double)\n",
    "    x = data.x.to(device, dtype=torch.double)\n",
    "    train_pos_edge_index = data.edge_index.to(device)\n",
    "\n",
    "    # inizialize the optimizer\n",
    "    optimizer = torch.optim.Adam(model.parameters(), lr=0.01)\n",
    "\n",
    "    loss_values =[]\n",
    "    for epoch in range(1, epochs + 1):\n",
    "        loss = train()\n",
    "        loss_values.append(loss)\n",
    "    new_embedding = model.encode(x, train_pos_edge_index)\n",
    "    new_embedding = new_embedding.cpu().detach().numpy()\n",
    "    nodes = list(graph.nodes)\n",
    "    gcn_embed = dict(zip(nodes, new_embedding))\n",
    "    save_obj(gcn_embed, \"gcn_embeddings\")"
   ]
  },
  {
   "cell_type": "code",
   "execution_count": null,
   "id": "a602b65f",
   "metadata": {},
   "outputs": [],
   "source": []
  },
  {
   "cell_type": "code",
   "execution_count": 72,
   "id": "fb53d5cd",
   "metadata": {},
   "outputs": [],
   "source": [
    "def obtain_embedding(embeddings):\n",
    "    '''\n",
    "    Input : Dataframe having edgelist, help in constructing directed family graph,\n",
    "    Output : Dictionary with nodes as key and embeddings as value\n",
    "    '''\n",
    "    print(\"Process Started\")\n",
    "    start_time = time.time()\n",
    "    node_data_loc = './data/mgpnodeList_with_year_completion_updated.csv'\n",
    "    nodes =  pd.read_csv(node_data_loc, sep=',', lineterminator=\"\\n\", low_memory=False)\n",
    "    final_embed = {}\n",
    "    if 'input_connected' in nodes.columns :\n",
    "        graphs = nodes[nodes['input_connected']==True][['nodeid','input_edgelist']].values\n",
    "        for family in graphs:\n",
    "            nodeid = family[0]\n",
    "            fam_g = eval(family[1])\n",
    "            fam_g = set([node for edges in fam_g for node in edges])\n",
    "            #print(fam_g)\n",
    "            embed = {str(key): embeddings[key] for key in fam_g}\n",
    "            final_embed[nodeid] = embed\n",
    "    else:\n",
    "        print(\"Connected graph info is not available\")\n",
    "    save_obj(final_embed, \"family_gcn_embedding\")\n",
    "    print(f\"Process Completed in hours :{(time.time() - start_time)/3600}\")\n",
    "    return final_embed"
   ]
  },
  {
   "cell_type": "code",
   "execution_count": 73,
   "id": "f7b89f72",
   "metadata": {},
   "outputs": [
    {
     "name": "stdout",
     "output_type": "stream",
     "text": [
      "Process Started\n",
      "Process Completed in hours :0.00342623598045773\n",
      "saved\n"
     ]
    }
   ],
   "source": [
    "final_embed = obtain_embedding(gcn_embed)"
   ]
  },
  {
   "cell_type": "code",
   "execution_count": 12,
   "id": "34f29082",
   "metadata": {},
   "outputs": [
    {
     "data": {
      "text/plain": [
       "[<matplotlib.lines.Line2D at 0x7f8545695d90>]"
      ]
     },
     "execution_count": 12,
     "metadata": {},
     "output_type": "execute_result"
    },
    {
     "data": {
      "image/png": "[encoded data removed]",
      "text/plain": [
       "<Figure size 640x480 with 1 Axes>"
      ]
     },
     "metadata": {},
     "output_type": "display_data"
    }
   ],
   "source": [
    "plt.plot(range(epochs),loss_values)"
   ]
  },
  {
   "cell_type": "code",
   "execution_count": 17,
   "id": "863c45d6",
   "metadata": {},
   "outputs": [],
   "source": [
    "#loss_values[250:]"
   ]
  },
  {
   "cell_type": "code",
   "execution_count": 52,
   "id": "cc50e157",
   "metadata": {},
   "outputs": [],
   "source": [
    "#model"
   ]
  },
  {
   "cell_type": "code",
   "execution_count": 53,
   "id": "3507e37d",
   "metadata": {},
   "outputs": [],
   "source": [
    "#Z.shape"
   ]
  },
  {
   "cell_type": "code",
   "execution_count": 54,
   "id": "fa09ca87",
   "metadata": {},
   "outputs": [],
   "source": [
    "#data"
   ]
  },
  {
   "cell_type": "code",
   "execution_count": 55,
   "id": "0d2b7631",
   "metadata": {},
   "outputs": [],
   "source": [
    "#data.edge_index[1]"
   ]
  },
  {
   "cell_type": "code",
   "execution_count": 33,
   "id": "f2dc66bf",
   "metadata": {},
   "outputs": [],
   "source": [
    "#g= to_networkx(data)"
   ]
  },
  {
   "cell_type": "code",
   "execution_count": 41,
   "id": "1a036c02",
   "metadata": {},
   "outputs": [],
   "source": [
    "#g.nodes"
   ]
  },
  {
   "cell_type": "code",
   "execution_count": 42,
   "id": "057e4cf2",
   "metadata": {},
   "outputs": [],
   "source": [
    "#graph.nodes"
   ]
  },
  {
   "cell_type": "code",
   "execution_count": 43,
   "id": "9d9d4607",
   "metadata": {},
   "outputs": [],
   "source": [
    "#g.edges"
   ]
  },
  {
   "cell_type": "code",
   "execution_count": 44,
   "id": "93be55ed",
   "metadata": {},
   "outputs": [],
   "source": [
    "#graph.edges"
   ]
  }
 ],
 "metadata": {
  "kernelspec": {
   "display_name": "Python 3",
   "language": "python",
   "name": "python3"
  },
  "language_info": {
   "codemirror_mode": {
    "name": "ipython",
    "version": 3
   },
   "file_extension": ".py",
   "mimetype": "text/x-python",
   "name": "python",
   "nbconvert_exporter": "python",
   "pygments_lexer": "ipython3",
   "version": "3.8.11"
  }
 },
 "nbformat": 4,
 "nbformat_minor": 5
}
